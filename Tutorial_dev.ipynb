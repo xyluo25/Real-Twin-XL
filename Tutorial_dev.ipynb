{
 "cells": [
  {
   "cell_type": "raw",
   "id": "0712dd94",
   "metadata": {},
   "source": [
    "##############################################################################\n",
    "# Copyright (c) 2024, Oak Ridge National Laboratory                          #\n",
    "# All rights reserved.                                                       #\n",
    "#                                                                            #\n",
    "# This file is part of RealTwin and is distributed under a MIT               #\n",
    "# license. For the licensing terms see the LICENSE file in the top-level     #\n",
    "# directory.                                                                 #\n",
    "#                                                                            #\n",
    "# Contributors: ORNL Real-Twin Team                                          #\n",
    "# Contact: realtwin@ornl.gov                                                 #\n",
    "##############################################################################"
   ]
  },
  {
   "cell_type": "markdown",
   "id": "ad37d0b4",
   "metadata": {},
   "source": [
    "## Please refer to our official documentation for more details on RealTwin preparation before running the simulation"
   ]
  },
  {
   "cell_type": "code",
   "execution_count": 1,
   "id": "cfef3988",
   "metadata": {},
   "outputs": [],
   "source": [
    "import realtwin as rt"
   ]
  },
  {
   "cell_type": "code",
   "execution_count": 2,
   "id": "c01d8552",
   "metadata": {},
   "outputs": [],
   "source": [
    "# Step 1: Prepare your configuration file (in YAML format)\n",
    "\n",
    "CONFIG_FILE = \"./realtwin_config.yaml\""
   ]
  },
  {
   "cell_type": "code",
   "execution_count": 3,
   "id": "05d62b8e",
   "metadata": {},
   "outputs": [],
   "source": [
    "# In case you don't know where to get the template configuration file, you can create a template configuration file using code below\n",
    "\n",
    "# rt.prepare_config_file()"
   ]
  },
  {
   "cell_type": "code",
   "execution_count": 4,
   "id": "c6ac9a4e",
   "metadata": {},
   "outputs": [],
   "source": [
    "# Step 2: initialize the realtwin object\n",
    "# In this step, realtwin package will load the configuration file and prepare global variables for future use.\n",
    "\n",
    "twin = rt.RealTwin(input_config_file=CONFIG_FILE, verbose=True)"
   ]
  },
  {
   "cell_type": "code",
   "execution_count": 5,
   "id": "07bd1028",
   "metadata": {},
   "outputs": [
    {
     "data": {
      "text/html": [
       "<pre style=\"white-space:pre;overflow-x:auto;line-height:normal;font-family:Menlo,'DejaVu Sans Mono',consolas,'Courier New',monospace\">\n",
       "<span style=\"color: #008000; text-decoration-color: #008000; font-weight: bold\">Check / Install the selected simulators:</span>\n",
       "</pre>\n"
      ],
      "text/plain": [
       "\n",
       "\u001b[1;32mCheck \u001b[0m\u001b[1;32m/\u001b[0m\u001b[1;32m Install the selected simulators:\u001b[0m\n"
      ]
     },
     "metadata": {},
     "output_type": "display_data"
    },
    {
     "name": "stdout",
     "output_type": "stream",
     "text": [
      "  :Checking SUMO installation on Windows.\n",
      "  :SUMO version: 1.21.0 found: C:/Program Files (x86)/Eclipse/Sumo/bin/sumo.exe\n",
      "  :SUMO is already installed, available versions: ['1.21.0']\n"
     ]
    },
    {
     "data": {
      "text/html": [
       "<pre style=\"white-space:pre;overflow-x:auto;line-height:normal;font-family:Menlo,'DejaVu Sans Mono',consolas,'Courier New',monospace\">  :<span style=\"color: #800080; text-decoration-color: #800080; font-weight: bold\">Could not install vissim (strict version) on your operation system</span></pre>\n"
      ],
      "text/plain": [
       "  :\u001b[1;35mCould not install vissim \u001b[0m\u001b[1;35m(\u001b[0m\u001b[1;35mstrict version\u001b[0m\u001b[1;35m)\u001b[0m\u001b[1;35m on your operation system\u001b[0m"
      ]
     },
     "metadata": {},
     "output_type": "display_data"
    },
    {
     "data": {
      "text/plain": [
       "True"
      ]
     },
     "execution_count": 5,
     "metadata": {},
     "output_type": "execute_result"
    }
   ],
   "source": [
    "# Step 3: check simulator env: if SUMO, VISSIM, Aimsun, etc... are installed\n",
    "\n",
    "# Check whether selected simulator installed on your operation system.\n",
    "# If not, install the simulator (for SUMO), print out message to let user know (for Other Simulator)\n",
    "# Currently accepted simulators are: SUMO, VISSIM, AIMSUN\n",
    "\n",
    "twin.env_setup(sel_sim=[\"SUMO\", \"VISSIM\"])"
   ]
  },
  {
   "cell_type": "code",
   "execution_count": 6,
   "id": "803ab3cc",
   "metadata": {},
   "outputs": [],
   "source": [
    "# Step 4: Create Matchup Table from SUMO network\n",
    "\n",
    "# This step will generate MatchupTable.xlsx based on SUMO network (vertices from input configuration file)\n",
    "# twin.generate_inputs(incl_sumo_net=None)"
   ]
  },
  {
   "cell_type": "code",
   "execution_count": 7,
   "id": "511f046a",
   "metadata": {},
   "outputs": [
    {
     "data": {
      "text/html": [
       "<pre style=\"white-space:pre;overflow-x:auto;line-height:normal;font-family:Menlo,'DejaVu Sans Mono',consolas,'Courier New',monospace\">\n",
       "<span style=\"color: #008000; text-decoration-color: #008000; font-weight: bold\">Check / Create input files and folders for user:</span>\n",
       "</pre>\n"
      ],
      "text/plain": [
       "\n",
       "\u001b[1;32mCheck \u001b[0m\u001b[1;32m/\u001b[0m\u001b[1;32m Create input files and folders for user:\u001b[0m\n"
      ]
     },
     "metadata": {},
     "output_type": "display_data"
    },
    {
     "data": {
      "text/html": [
       "<pre style=\"white-space:pre;overflow-x:auto;line-height:normal;font-family:Menlo,'DejaVu Sans Mono',consolas,'Courier New',monospace\">  <span style=\"color: #7fbfbf; text-decoration-color: #7fbfbf\">:Control folder exists: c:/Users/xh8/ornl_work/github_workspace/Real-Twin-Dev/datasets/input_dir_dummy/Control.</span>\n",
       "  :NOTICE: <span style=\"color: #800000; text-decoration-color: #800000; font-weight: bold\">Please include Synchro UTDF file (signal) inside Control folder</span>\n",
       "\n",
       "</pre>\n"
      ],
      "text/plain": [
       "  \u001b[2;36m:Control folder exists: c:\u001b[0m\u001b[2;36m/Users/xh8/ornl_work/github_workspace/Real-Twin-Dev/datasets/input_dir_dummy/\u001b[0m\u001b[2;36mControl.\u001b[0m\n",
       "  :NOTICE: \u001b[1;31mPlease include Synchro UTDF file \u001b[0m\u001b[1;31m(\u001b[0m\u001b[1;31msignal\u001b[0m\u001b[1;31m)\u001b[0m\u001b[1;31m inside Control folder\u001b[0m\n",
       "\n"
      ]
     },
     "metadata": {},
     "output_type": "display_data"
    },
    {
     "data": {
      "text/html": [
       "<pre style=\"white-space:pre;overflow-x:auto;line-height:normal;font-family:Menlo,'DejaVu Sans Mono',consolas,'Courier New',monospace\">  <span style=\"color: #7fbfbf; text-decoration-color: #7fbfbf\">:Traffic folder exists: c:/Users/xh8/ornl_work/github_workspace/Real-Twin-Dev/datasets/input_dir_dummy/Traffic.</span>\n",
       "  :NOTICE: <span style=\"color: #800000; text-decoration-color: #800000; font-weight: bold\">Please include turn movement file for each intersection inside Traffic folder and add the file names to the MatchupTable.xlsx (You will notice the generated MatchupTable.xlsx inside your input folder). For how to fill the MatchupTable.xlsx, please refer to official documentation</span>\n",
       "\n",
       "</pre>\n"
      ],
      "text/plain": [
       "  \u001b[2;36m:Traffic folder exists: c:\u001b[0m\u001b[2;36m/Users/xh8/ornl_work/github_workspace/Real-Twin-Dev/datasets/input_dir_dummy/\u001b[0m\u001b[2;36mTraffic.\u001b[0m\n",
       "  :NOTICE: \u001b[1;31mPlease include turn movement file for each intersection inside Traffic folder and add the file names to the MatchupTable.xlsx \u001b[0m\u001b[1;31m(\u001b[0m\u001b[1;31mYou will notice the generated MatchupTable.xlsx inside your input folder\u001b[0m\u001b[1;31m)\u001b[0m\u001b[1;31m. For how to fill the MatchupTable.xlsx, please refer to official documentation\u001b[0m\n",
       "\n"
      ]
     },
     "metadata": {},
     "output_type": "display_data"
    },
    {
     "data": {
      "application/vnd.jupyter.widget-view+json": {
       "model_id": "1ace1d25e413401f8f1036038c49be09",
       "version_major": 2,
       "version_minor": 0
      },
      "text/plain": [
       "Output()"
      ]
     },
     "metadata": {},
     "output_type": "display_data"
    },
    {
     "data": {
      "text/html": [
       "<pre style=\"white-space:pre;overflow-x:auto;line-height:normal;font-family:Menlo,'DejaVu Sans Mono',consolas,'Courier New',monospace\">  :INFO: OpenDrive network is generated.\n",
       "</pre>\n"
      ],
      "text/plain": [
       "  :INFO: OpenDrive network is generated.\n"
      ]
     },
     "metadata": {},
     "output_type": "display_data"
    },
    {
     "data": {
      "text/html": [
       "<pre style=\"white-space:pre;overflow-x:auto;line-height:normal;font-family:Menlo,'DejaVu Sans Mono',consolas,'Courier New',monospace\">  <span style=\"color: #7fbfbf; text-decoration-color: #7fbfbf\">:INFO: SUMO network is copied to c:/Users/xh8/ornl_work/github_workspace/Real-Twin-Dev/datasets/input_dir_dummy/output/OpenDrive/chatt.net.xml.</span>\n",
       "<span style=\"color: #7fbfbf; text-decoration-color: #7fbfbf\">  :Using updated SUMO network provide by user: c:/Users/xh8/ornl_work/github_workspace/Real-Twin-Dev/datasets/input_dir_dummy/updated_net/chatt.net.xml to generate OpenDrive network.</span>\n",
       "\n",
       "</pre>\n"
      ],
      "text/plain": [
       "  \u001b[2;36m:INFO: SUMO network is copied to c:\u001b[0m\u001b[2;36m/Users/xh8/ornl_work/github_workspace/Real-Twin-Dev/datasets/input_dir_dummy/output/OpenDrive/\u001b[0m\u001b[2;36mchatt.net.xml.\u001b[0m\n",
       "\u001b[2;36m  \u001b[0m\u001b[2;36m:Using updated SUMO network provide by user: c:\u001b[0m\u001b[2;36m/Users/xh8/ornl_work/github_workspace/Real-Twin-Dev/datasets/input_dir_dummy/updated_net/\u001b[0m\u001b[2;36mchatt.net.xml\u001b[0m\u001b[2;36m to generate OpenDrive network.\u001b[0m\n",
       "\n"
      ]
     },
     "metadata": {},
     "output_type": "display_data"
    },
    {
     "data": {
      "text/html": [
       "<pre style=\"white-space:pre;overflow-x:auto;line-height:normal;font-family:Menlo,'DejaVu Sans Mono',consolas,'Courier New',monospace\">  <span style=\"color: #7fbfbf; text-decoration-color: #7fbfbf\">:INFO: OpenDrive network is generated.</span></pre>\n"
      ],
      "text/plain": [
       "  \u001b[2;36m:INFO: OpenDrive network is generated.\u001b[0m"
      ]
     },
     "metadata": {},
     "output_type": "display_data"
    },
    {
     "data": {
      "text/html": [
       "<pre style=\"white-space:pre;overflow-x:auto;line-height:normal;font-family:Menlo,'DejaVu Sans Mono',consolas,'Courier New',monospace\">  <span style=\"color: #7fbfbf; text-decoration-color: #7fbfbf\">:NOTE: Matchup table is generated and saved to c:/Users/xh8/ornl_work/github_workspace/Real-Twin-Dev/datasets/input_dir_dummy/MatchupTable.xlsx.</span>\n",
       "  :NOTICE: <span style=\"color: #800000; text-decoration-color: #800000; font-weight: bold\">Please update the Matchup table from input folder and then run generate_abstract_scenario(). For details please refer to official documentation:</span>\n",
       "\n",
       "</pre>\n"
      ],
      "text/plain": [
       "  \u001b[2;36m:NOTE: Matchup table is generated and saved to c:\u001b[0m\u001b[2;36m/Users/xh8/ornl_work/github_workspace/Real-Twin-Dev/datasets/input_dir_dummy/\u001b[0m\u001b[2;36mMatchupTable.xlsx.\u001b[0m\n",
       "  :NOTICE: \u001b[1;31mPlease update the Matchup table from input folder and then run \u001b[0m\u001b[1;31mgenerate_abstract_scenario\u001b[0m\u001b[1;31m(\u001b[0m\u001b[1;31m)\u001b[0m\u001b[1;31m. For details please refer to official documentation:\u001b[0m\n",
       "\n"
      ]
     },
     "metadata": {},
     "output_type": "display_data"
    },
    {
     "data": {
      "text/html": [
       "<pre style=\"white-space:pre;overflow-x:auto;line-height:normal;font-family:Menlo,'DejaVu Sans Mono',consolas,'Courier New',monospace\"><span style=\"color: #00ff00; text-decoration-color: #00ff00\">─ </span><span style=\"color: #008000; text-decoration-color: #008000; font-weight: bold\">Program stopped. Please prepare the Control and Traffic data and fill in the Matchup Table before proceeding. </span><span style=\"color: #800000; text-decoration-color: #800000; font-weight: bold\">…</span><span style=\"color: #00ff00; text-decoration-color: #00ff00\"> ─</span>\n",
       "</pre>\n"
      ],
      "text/plain": [
       "\u001b[92m─ \u001b[0m\u001b[1;32mProgram stopped. Please prepare the Control and Traffic data and fill in the Matchup Table before proceeding. \u001b[0m\u001b[1;31m…\u001b[0m\u001b[92m ─\u001b[0m\n"
      ]
     },
     "metadata": {},
     "output_type": "display_data"
    },
    {
     "data": {
      "text/html": [
       "<pre style=\"white-space:pre;overflow-x:auto;line-height:normal;font-family:Menlo,'DejaVu Sans Mono',consolas,'Courier New',monospace\">⚠ <span style=\"color: #800080; text-decoration-color: #800080; font-weight: bold\">Please update the generated Matchup table from input folder before pressing Enter or type </span><span style=\"color: #800080; text-decoration-color: #800080; font-weight: bold\">'y'</span><span style=\"color: #800080; text-decoration-color: #800080; font-weight: bold\"> / </span><span style=\"color: #800080; text-decoration-color: #800080; font-weight: bold\">'yes'</span><span style=\"color: #800080; text-decoration-color: #800080; font-weight: bold\"> to continue</span></pre>\n"
      ],
      "text/plain": [
       "⚠ \u001b[1;35mPlease update the generated Matchup table from input folder before pressing Enter or type \u001b[0m\u001b[1;35m'y'\u001b[0m\u001b[1;35m \u001b[0m\u001b[1;35m/\u001b[0m\u001b[1;35m \u001b[0m\u001b[1;35m'yes'\u001b[0m\u001b[1;35m to continue\u001b[0m"
      ]
     },
     "metadata": {},
     "output_type": "display_data"
    },
    {
     "data": {
      "text/html": [
       "<pre style=\"white-space:pre;overflow-x:auto;line-height:normal;font-family:Menlo,'DejaVu Sans Mono',consolas,'Courier New',monospace\">  <span style=\"color: #7fbfbf; text-decoration-color: #7fbfbf\">:INFO: User confirmed to continue </span><span style=\"color: #7fbfbf; text-decoration-color: #7fbfbf; font-weight: bold\">(</span><span style=\"color: #7fbfbf; text-decoration-color: #7fbfbf\">Matchup Table Updated</span><span style=\"color: #7fbfbf; text-decoration-color: #7fbfbf; font-weight: bold\">)</span><span style=\"color: #7fbfbf; text-decoration-color: #7fbfbf\">.</span>\n",
       "</pre>\n"
      ],
      "text/plain": [
       "  \u001b[2;36m:INFO: User confirmed to continue \u001b[0m\u001b[1;2;36m(\u001b[0m\u001b[2;36mMatchup Table Updated\u001b[0m\u001b[1;2;36m)\u001b[0m\u001b[2;36m.\u001b[0m\n"
      ]
     },
     "metadata": {},
     "output_type": "display_data"
    },
    {
     "data": {
      "text/html": [
       "<pre style=\"white-space:pre;overflow-x:auto;line-height:normal;font-family:Menlo,'DejaVu Sans Mono',consolas,'Courier New',monospace\"></pre>\n"
      ],
      "text/plain": []
     },
     "metadata": {},
     "output_type": "display_data"
    }
   ],
   "source": [
    "# Step 4: Create Matchup Table from SUMO network (Optional)\n",
    "\n",
    "# if you have your updated / personal sumo network file (rather than downloaded from OpenStreetMap)\n",
    "updated_sumo_net = r\"./datasets/input_dir_dummy/updated_net/chatt.net.xml\"\n",
    "twin.generate_inputs(incl_sumo_net=updated_sumo_net)"
   ]
  },
  {
   "cell_type": "markdown",
   "id": "5d7fd478",
   "metadata": {},
   "source": [
    "### Before step 5, there are three steps to be performed:\n",
    "### 1. Prepare Traffic Demand and save it to Traffic Folder in input directory\n",
    "### 2. Prepare Control Data (Signal) and save it to Control Folder in input directory\n",
    "### 3. Manually fill in the Matchup Table in the input directory"
   ]
  },
  {
   "cell_type": "code",
   "execution_count": 8,
   "id": "d2a89c1a",
   "metadata": {},
   "outputs": [
    {
     "name": "stdout",
     "output_type": "stream",
     "text": [
      "  :There are more turning movements in Shallowford+I75N_07112023.xls than OpenDrive junction: 8.\n",
      "  :There are more turning movements in Shallowford+I75S_07112023.xls than OpenDrive junction: 9.\n",
      "  :There are more turning movements in Shallowford+I75S_07112023.xls than OpenDrive junction: 9.\n",
      "  :There are more turning movements in Shallowford+I75S_07112023.xls than OpenDrive junction: 9.\n",
      "  :There are more turning movements in Shallowford+I75S_07112023.xls than OpenDrive junction: 9.\n",
      "  :There are more turning movements in Synchro_signal.csv than OpenDrive junction 8.\n",
      "  :There are more turning movements in Synchro_signal.csv than OpenDrive junction 9.\n"
     ]
    },
    {
     "data": {
      "text/html": [
       "<pre style=\"white-space:pre;overflow-x:auto;line-height:normal;font-family:Menlo,'DejaVu Sans Mono',consolas,'Courier New',monospace\">⚠ <span style=\"color: #800080; text-decoration-color: #800080; font-weight: bold\">In the Matchup Table, please check if the turn movement in the demand and control data match with bearings in the</span>\n",
       "<span style=\"color: #800080; text-decoration-color: #800080; font-weight: bold\">network data. Enter any key to continue...</span></pre>\n"
      ],
      "text/plain": [
       "⚠ \u001b[1;35mIn the Matchup Table, please check if the turn movement in the demand and control data match with bearings in the\u001b[0m\n",
       "\u001b[1;35mnetwork data. Enter any key to continue\u001b[0m\u001b[1;35m...\u001b[0m"
      ]
     },
     "metadata": {},
     "output_type": "display_data"
    },
    {
     "data": {
      "text/html": [
       "<pre style=\"white-space:pre;overflow-x:auto;line-height:normal;font-family:Menlo,'DejaVu Sans Mono',consolas,'Courier New',monospace\">\n",
       "<span style=\"color: #008000; text-decoration-color: #008000; font-weight: bold\">Abstract Scenario successfully generated.</span>\n",
       "</pre>\n"
      ],
      "text/plain": [
       "\n",
       "\u001b[1;32mAbstract Scenario successfully generated.\u001b[0m\n"
      ]
     },
     "metadata": {},
     "output_type": "display_data"
    }
   ],
   "source": [
    "# Step 5: generate abstract scenario\n",
    "\n",
    "# 1. Automatically fill in the Matchup Table from traffic and control\n",
    "# 2. Save the filled Matchup Table to the input directory\n",
    "# 3. Manually edit / fixed the Matchup Table if needed\n",
    "\n",
    "twin.generate_abstract_scenario()"
   ]
  },
  {
   "cell_type": "code",
   "execution_count": 9,
   "id": "659ebd45",
   "metadata": {},
   "outputs": [
    {
     "data": {
      "text/html": [
       "<pre style=\"white-space:pre;overflow-x:auto;line-height:normal;font-family:Menlo,'DejaVu Sans Mono',consolas,'Courier New',monospace\">\n",
       "<span style=\"color: #008000; text-decoration-color: #008000; font-weight: bold\">Concrete Scenario successfully generated.</span>\n",
       "</pre>\n"
      ],
      "text/plain": [
       "\n",
       "\u001b[1;32mConcrete Scenario successfully generated.\u001b[0m\n"
      ]
     },
     "metadata": {},
     "output_type": "display_data"
    }
   ],
   "source": [
    "# Step 6: generate scenarios\n",
    "\n",
    "twin.generate_concrete_scenario()"
   ]
  },
  {
   "cell_type": "code",
   "execution_count": 10,
   "id": "75bade7e",
   "metadata": {},
   "outputs": [
    {
     "name": "stdout",
     "output_type": "stream",
     "text": [
      "  :There is mismatch between SUMO turn and Synchro turn for Synchro junction 11\n",
      "  :SUMO signal updated at: c:/Users/xh8/ornl_work/github_workspace/Real-Twin-Dev/datasets/input_dir_dummy/output/SUMO/chatt.net.xml\n"
     ]
    },
    {
     "data": {
      "text/html": [
       "<pre style=\"white-space:pre;overflow-x:auto;line-height:normal;font-family:Menlo,'DejaVu Sans Mono',consolas,'Courier New',monospace\">\n",
       "<span style=\"color: #008000; text-decoration-color: #008000; font-weight: bold\">SUMO simulation successfully Prepared.</span>\n",
       "</pre>\n"
      ],
      "text/plain": [
       "\n",
       "\u001b[1;32mSUMO simulation successfully Prepared.\u001b[0m\n"
      ]
     },
     "metadata": {},
     "output_type": "display_data"
    },
    {
     "data": {
      "text/plain": [
       "True"
      ]
     },
     "execution_count": 10,
     "metadata": {},
     "output_type": "execute_result"
    }
   ],
   "source": [
    "# Step 7: simulate the scenario\n",
    "\n",
    "twin.prepare_simulation()"
   ]
  },
  {
   "cell_type": "code",
   "execution_count": 11,
   "id": "e4b127e2",
   "metadata": {},
   "outputs": [
    {
     "name": "stdout",
     "output_type": "stream",
     "text": [
      "\n",
      "\n",
      "  :Optimize Turn and Inflow...\n"
     ]
    },
    {
     "name": "stderr",
     "output_type": "stream",
     "text": [
      "2025/05/29 12:21:15 PM, INFO, mealpy.evolutionary_based.GA.BaseGA: Solving single objective optimization problem.\n"
     ]
    },
    {
     "name": "stdout",
     "output_type": "stream",
     "text": [
      "  :GEH: Mean Percentage: 15.867620511677837, 0.28\n",
      "  :GEH: Mean Percentage: 14.481943318694544, 0.36\n",
      "  :GEH: Mean Percentage: 15.289017912036797, 0.28\n",
      "  :GEH: Mean Percentage: 12.521137938406135, 0.48\n",
      "  :GEH: Mean Percentage: 13.47842568828499, 0.48\n",
      "  :GEH: Mean Percentage: 16.86890989004831, 0.28\n",
      "  :GEH: Mean Percentage: 15.97477388712025, 0.24\n",
      "  :GEH: Mean Percentage: 17.077767557576408, 0.24\n",
      "  :GEH: Mean Percentage: 17.100311409399925, 0.2\n",
      "  :GEH: Mean Percentage: 15.992448089519678, 0.28\n",
      "  :GEH: Mean Percentage: 17.297039511225446, 0.2\n"
     ]
    },
    {
     "ename": "KeyboardInterrupt",
     "evalue": "",
     "output_type": "error",
     "traceback": [
      "\u001b[31m---------------------------------------------------------------------------\u001b[39m",
      "\u001b[31mKeyboardInterrupt\u001b[39m                         Traceback (most recent call last)",
      "\u001b[36mCell\u001b[39m\u001b[36m \u001b[39m\u001b[32mIn[11]\u001b[39m\u001b[32m, line 2\u001b[39m\n\u001b[32m      1\u001b[39m \u001b[38;5;66;03m# Step 8: perform calibration, Available algorithms: GA: Genetic Algorithm, SA: Simulated Annealing, TS: Tabu Search\u001b[39;00m\n\u001b[32m----> \u001b[39m\u001b[32m2\u001b[39m \u001b[43mtwin\u001b[49m\u001b[43m.\u001b[49m\u001b[43mcalibrate\u001b[49m\u001b[43m(\u001b[49m\u001b[43msel_algo\u001b[49m\u001b[43m=\u001b[49m\u001b[43m{\u001b[49m\u001b[33;43m\"\u001b[39;49m\u001b[33;43mturn_inflow\u001b[39;49m\u001b[33;43m\"\u001b[39;49m\u001b[43m:\u001b[49m\u001b[43m \u001b[49m\u001b[33;43m\"\u001b[39;49m\u001b[33;43mGA\u001b[39;49m\u001b[33;43m\"\u001b[39;49m\u001b[43m,\u001b[49m\u001b[43m \u001b[49m\u001b[33;43m\"\u001b[39;49m\u001b[33;43mbehavior\u001b[39;49m\u001b[33;43m\"\u001b[39;49m\u001b[43m:\u001b[49m\u001b[43m \u001b[49m\u001b[33;43m\"\u001b[39;49m\u001b[33;43mGA\u001b[39;49m\u001b[33;43m\"\u001b[39;49m\u001b[43m}\u001b[49m\u001b[43m)\u001b[49m\n",
      "\u001b[36mFile \u001b[39m\u001b[32mc:\\Users\\xh8\\ornl_work\\github_workspace\\Real-Twin-Dev\\realtwin\\_realtwin.py:452\u001b[39m, in \u001b[36mRealTwin.calibrate\u001b[39m\u001b[34m(self, sel_algo, sel_behavior_routes, update_turn_flow_algo, update_behavior_algo)\u001b[39m\n\u001b[32m    450\u001b[39m \u001b[38;5;66;03m# run calibration based on the selected algorithm\u001b[39;00m\n\u001b[32m    451\u001b[39m \u001b[38;5;28;01mif\u001b[39;00m \u001b[33m\"\u001b[39m\u001b[33msumo\u001b[39m\u001b[33m\"\u001b[39m \u001b[38;5;129;01min\u001b[39;00m \u001b[38;5;28mself\u001b[39m.sel_sim:\n\u001b[32m--> \u001b[39m\u001b[32m452\u001b[39m     \u001b[43mcali_sumo\u001b[49m\u001b[43m(\u001b[49m\u001b[43msel_algo\u001b[49m\u001b[43m=\u001b[49m\u001b[43msel_algo\u001b[49m\u001b[43m,\u001b[49m\u001b[43m \u001b[49m\u001b[43minput_config\u001b[49m\u001b[43m=\u001b[49m\u001b[38;5;28;43mself\u001b[39;49m\u001b[43m.\u001b[49m\u001b[43minput_config\u001b[49m\u001b[43m,\u001b[49m\u001b[43m \u001b[49m\u001b[43mverbose\u001b[49m\u001b[43m=\u001b[49m\u001b[38;5;28;43mself\u001b[39;49m\u001b[43m.\u001b[49m\u001b[43mverbose\u001b[49m\u001b[43m,\u001b[49m\u001b[43m \u001b[49m\u001b[43m*\u001b[49m\u001b[43m*\u001b[49m\u001b[43muser_kwargs\u001b[49m\u001b[43m)\u001b[49m\n\u001b[32m    454\u001b[39m \u001b[38;5;28;01mif\u001b[39;00m \u001b[33m\"\u001b[39m\u001b[33mvissim\u001b[39m\u001b[33m\"\u001b[39m \u001b[38;5;129;01min\u001b[39;00m \u001b[38;5;28mself\u001b[39m.sel_sim:\n\u001b[32m    455\u001b[39m     \u001b[38;5;28;01mpass\u001b[39;00m\n",
      "\u001b[36mFile \u001b[39m\u001b[32mc:\\Users\\xh8\\ornl_work\\github_workspace\\Real-Twin-Dev\\realtwin\\func_lib\\_f_calibration\\calibration_sumo.py:92\u001b[39m, in \u001b[36mcali_sumo\u001b[39m\u001b[34m(sel_algo, input_config, verbose, **kwargs)\u001b[39m\n\u001b[32m     90\u001b[39m \u001b[38;5;28;01mmatch\u001b[39;00m sel_algo[\u001b[33m\"\u001b[39m\u001b[33mturn_inflow\u001b[39m\u001b[33m\"\u001b[39m]:\n\u001b[32m     91\u001b[39m     \u001b[38;5;28;01mcase\u001b[39;00m \u001b[33m\"\u001b[39m\u001b[33mga\u001b[39m\u001b[33m\"\u001b[39m:\n\u001b[32m---> \u001b[39m\u001b[32m92\u001b[39m         g_best, model = \u001b[43mturn_inflow\u001b[49m\u001b[43m.\u001b[49m\u001b[43mrun_GA\u001b[49m\u001b[43m(\u001b[49m\u001b[43m)\u001b[49m\n\u001b[32m     93\u001b[39m         path_model_result = \u001b[33m\"\u001b[39m\u001b[33mturn_inflow_ga_result\u001b[39m\u001b[33m\"\u001b[39m\n\u001b[32m     94\u001b[39m     \u001b[38;5;28;01mcase\u001b[39;00m \u001b[33m\"\u001b[39m\u001b[33msa\u001b[39m\u001b[33m\"\u001b[39m:\n",
      "\u001b[36mFile \u001b[39m\u001b[32mc:\\Users\\xh8\\ornl_work\\github_workspace\\Real-Twin-Dev\\realtwin\\func_lib\\_f_calibration\\algo_sumo\\cali_turn_inflow.py:327\u001b[39m, in \u001b[36mTurnInflowCali.run_GA\u001b[39m\u001b[34m(self, **kwargs)\u001b[39m\n\u001b[32m    325\u001b[39m \u001b[38;5;28;01mif\u001b[39;00m epoch > \u001b[38;5;28mself\u001b[39m.term_dict[\u001b[33m\"\u001b[39m\u001b[33mmax_epoch\u001b[39m\u001b[33m\"\u001b[39m]:\n\u001b[32m    326\u001b[39m     \u001b[38;5;28mself\u001b[39m.term_dict[\u001b[33m\"\u001b[39m\u001b[33mmax_epoch\u001b[39m\u001b[33m\"\u001b[39m] = epoch\n\u001b[32m--> \u001b[39m\u001b[32m327\u001b[39m g_best = \u001b[43mmodel_ga\u001b[49m\u001b[43m.\u001b[49m\u001b[43msolve\u001b[49m\u001b[43m(\u001b[49m\u001b[38;5;28;43mself\u001b[39;49m\u001b[43m.\u001b[49m\u001b[43mproblem_dict\u001b[49m\u001b[43m,\u001b[49m\u001b[43m \u001b[49m\u001b[43mtermination\u001b[49m\u001b[43m=\u001b[49m\u001b[38;5;28;43mself\u001b[39;49m\u001b[43m.\u001b[49m\u001b[43mterm_dict\u001b[49m\u001b[43m)\u001b[49m\n\u001b[32m    329\u001b[39m \u001b[38;5;66;03m# update files with the best solution\u001b[39;00m\n\u001b[32m    330\u001b[39m fitness_func_turn_flow(g_best.solution, scenario_config=\u001b[38;5;28mself\u001b[39m.scenario_config)\n",
      "\u001b[36mFile \u001b[39m\u001b[32mc:\\Users\\xh8\\AppData\\Local\\anaconda3\\envs\\realtwin\\Lib\\site-packages\\mealpy\\optimizer.py:237\u001b[39m, in \u001b[36mOptimizer.solve\u001b[39m\u001b[34m(self, problem, mode, n_workers, termination, starting_solutions, seed)\u001b[39m\n\u001b[32m    234\u001b[39m time_epoch = time.perf_counter()\n\u001b[32m    236\u001b[39m \u001b[38;5;66;03m## Evolve method will be called in child class\u001b[39;00m\n\u001b[32m--> \u001b[39m\u001b[32m237\u001b[39m \u001b[38;5;28;43mself\u001b[39;49m\u001b[43m.\u001b[49m\u001b[43mevolve\u001b[49m\u001b[43m(\u001b[49m\u001b[43mepoch\u001b[49m\u001b[43m)\u001b[49m\n\u001b[32m    239\u001b[39m \u001b[38;5;66;03m# Update global best solution, the population is sorted or not depended on algorithm's strategy\u001b[39;00m\n\u001b[32m    240\u001b[39m pop_temp, \u001b[38;5;28mself\u001b[39m.g_best = \u001b[38;5;28mself\u001b[39m.update_global_best_agent(\u001b[38;5;28mself\u001b[39m.pop)\n",
      "\u001b[36mFile \u001b[39m\u001b[32mc:\\Users\\xh8\\AppData\\Local\\anaconda3\\envs\\realtwin\\Lib\\site-packages\\mealpy\\evolutionary_based\\GA.py:317\u001b[39m, in \u001b[36mBaseGA.evolve\u001b[39m\u001b[34m(self, epoch)\u001b[39m\n\u001b[32m    314\u001b[39m     pop_new.append(agent2)\n\u001b[32m    316\u001b[39m     \u001b[38;5;28;01mif\u001b[39;00m \u001b[38;5;28mself\u001b[39m.mode \u001b[38;5;129;01mnot\u001b[39;00m \u001b[38;5;129;01min\u001b[39;00m \u001b[38;5;28mself\u001b[39m.AVAILABLE_MODES:\n\u001b[32m--> \u001b[39m\u001b[32m317\u001b[39m         pop_new[-\u001b[32m2\u001b[39m].target = \u001b[38;5;28;43mself\u001b[39;49m\u001b[43m.\u001b[49m\u001b[43mget_target\u001b[49m\u001b[43m(\u001b[49m\u001b[43mchild1\u001b[49m\u001b[43m)\u001b[49m\n\u001b[32m    318\u001b[39m         pop_new[-\u001b[32m1\u001b[39m].target = \u001b[38;5;28mself\u001b[39m.get_target(child2)\n\u001b[32m    319\u001b[39m \u001b[38;5;28;01mif\u001b[39;00m \u001b[38;5;28mself\u001b[39m.mode \u001b[38;5;129;01min\u001b[39;00m \u001b[38;5;28mself\u001b[39m.AVAILABLE_MODES:\n",
      "\u001b[36mFile \u001b[39m\u001b[32mc:\\Users\\xh8\\AppData\\Local\\anaconda3\\envs\\realtwin\\Lib\\site-packages\\mealpy\\optimizer.py:406\u001b[39m, in \u001b[36mOptimizer.get_target\u001b[39m\u001b[34m(self, solution, counted)\u001b[39m\n\u001b[32m    404\u001b[39m \u001b[38;5;28;01mif\u001b[39;00m counted:\n\u001b[32m    405\u001b[39m     \u001b[38;5;28mself\u001b[39m.nfe_counter += \u001b[32m1\u001b[39m\n\u001b[32m--> \u001b[39m\u001b[32m406\u001b[39m \u001b[38;5;28;01mreturn\u001b[39;00m \u001b[38;5;28;43mself\u001b[39;49m\u001b[43m.\u001b[49m\u001b[43mproblem\u001b[49m\u001b[43m.\u001b[49m\u001b[43mget_target\u001b[49m\u001b[43m(\u001b[49m\u001b[43msolution\u001b[49m\u001b[43m)\u001b[49m\n",
      "\u001b[36mFile \u001b[39m\u001b[32mc:\\Users\\xh8\\AppData\\Local\\anaconda3\\envs\\realtwin\\Lib\\site-packages\\mealpy\\utils\\problem.py:200\u001b[39m, in \u001b[36mProblem.get_target\u001b[39m\u001b[34m(self, solution)\u001b[39m\n\u001b[32m    192\u001b[39m \u001b[38;5;28;01mdef\u001b[39;00m\u001b[38;5;250m \u001b[39m\u001b[34mget_target\u001b[39m(\u001b[38;5;28mself\u001b[39m, solution: np.ndarray) -> Target:\n\u001b[32m    193\u001b[39m \u001b[38;5;250m    \u001b[39m\u001b[33;03m\"\"\"\u001b[39;00m\n\u001b[32m    194\u001b[39m \u001b[33;03m    Args:\u001b[39;00m\n\u001b[32m    195\u001b[39m \u001b[33;03m        solution: The real-value solution\u001b[39;00m\n\u001b[32m   (...)\u001b[39m\u001b[32m    198\u001b[39m \u001b[33;03m        The target object\u001b[39;00m\n\u001b[32m    199\u001b[39m \u001b[33;03m    \"\"\"\u001b[39;00m\n\u001b[32m--> \u001b[39m\u001b[32m200\u001b[39m     objs = \u001b[38;5;28;43mself\u001b[39;49m\u001b[43m.\u001b[49m\u001b[43mobj_func\u001b[49m\u001b[43m(\u001b[49m\u001b[43msolution\u001b[49m\u001b[43m)\u001b[49m\n\u001b[32m    201\u001b[39m     \u001b[38;5;28;01mreturn\u001b[39;00m Target(objectives=objs, weights=\u001b[38;5;28mself\u001b[39m.obj_weights)\n",
      "\u001b[36mFile \u001b[39m\u001b[32mc:\\Users\\xh8\\ornl_work\\github_workspace\\Real-Twin-Dev\\realtwin\\func_lib\\_f_calibration\\algo_sumo\\cali_turn_inflow.py:95\u001b[39m, in \u001b[36mfitness_func_turn_flow\u001b[39m\u001b[34m(solution, scenario_config, **kwargs)\u001b[39m\n\u001b[32m     86\u001b[39m run_jtrrouter_to_create_rou_xml(network_name,\n\u001b[32m     87\u001b[39m                                 path_net,\n\u001b[32m     88\u001b[39m                                 df_turn,\n\u001b[32m   (...)\u001b[39m\u001b[32m     91\u001b[39m                                 sim_start_time,\n\u001b[32m     92\u001b[39m                                 sim_end_time)\n\u001b[32m     94\u001b[39m \u001b[38;5;66;03m# run SUMO to get EdgeData.xml\u001b[39;00m\n\u001b[32m---> \u001b[39m\u001b[32m95\u001b[39m \u001b[43mrun_SUMO_create_EdgeData\u001b[49m\u001b[43m(\u001b[49m\u001b[43msim_name\u001b[49m\u001b[43m,\u001b[49m\u001b[43m \u001b[49m\u001b[43msim_end_time\u001b[49m\u001b[43m)\u001b[49m\n\u001b[32m     97\u001b[39m \u001b[38;5;66;03m# analyze EdgeData.xml to get best solution\u001b[39;00m\n\u001b[32m     98\u001b[39m _, mean_GEH, GEH_percent = result_analysis_on_EdgeData(RealSummary_Calibration,\n\u001b[32m     99\u001b[39m                                                        path_edge,\n\u001b[32m    100\u001b[39m                                                        calibration_target,\n\u001b[32m    101\u001b[39m                                                        sim_start_time,\n\u001b[32m    102\u001b[39m                                                        sim_end_time)\n",
      "\u001b[36mFile \u001b[39m\u001b[32mc:\\Users\\xh8\\ornl_work\\github_workspace\\Real-Twin-Dev\\realtwin\\func_lib\\_f_calibration\\algo_sumo\\util_cali_turn_inflow.py:201\u001b[39m, in \u001b[36mrun_SUMO_create_EdgeData\u001b[39m\u001b[34m(sim_name, sim_end_time)\u001b[39m\n\u001b[32m    199\u001b[39m traci.start([\u001b[33m\"\u001b[39m\u001b[33msumo\u001b[39m\u001b[33m\"\u001b[39m, \u001b[33m\"\u001b[39m\u001b[33m-c\u001b[39m\u001b[33m\"\u001b[39m, sim_name])\n\u001b[32m    200\u001b[39m \u001b[38;5;28;01mwhile\u001b[39;00m traci.simulation.getTime() < sim_end_time:\n\u001b[32m--> \u001b[39m\u001b[32m201\u001b[39m     \u001b[43mtraci\u001b[49m\u001b[43m.\u001b[49m\u001b[43msimulationStep\u001b[49m\u001b[43m(\u001b[49m\u001b[43m)\u001b[49m\n\u001b[32m    202\u001b[39m traci.close()\n\u001b[32m    203\u001b[39m \u001b[38;5;28;01mreturn\u001b[39;00m \u001b[38;5;28;01mTrue\u001b[39;00m\n",
      "\u001b[36mFile \u001b[39m\u001b[32mc:\\Users\\xh8\\AppData\\Local\\anaconda3\\envs\\realtwin\\Lib\\site-packages\\traci\\main.py:200\u001b[39m, in \u001b[36msimulationStep\u001b[39m\u001b[34m(step)\u001b[39m\n\u001b[32m    194\u001b[39m \u001b[38;5;28;01mdef\u001b[39;00m\u001b[38;5;250m \u001b[39m\u001b[34msimulationStep\u001b[39m(step=\u001b[32m0\u001b[39m):\n\u001b[32m    195\u001b[39m \u001b[38;5;250m    \u001b[39m\u001b[33;03m\"\"\"simulationStep(float) -> None\u001b[39;00m\n\u001b[32m    196\u001b[39m \u001b[33;03m    Make a simulation step and simulate up to the given second in sim time.\u001b[39;00m\n\u001b[32m    197\u001b[39m \u001b[33;03m    If the given value is 0 or absent, exactly one step is performed.\u001b[39;00m\n\u001b[32m    198\u001b[39m \u001b[33;03m    Values smaller than or equal to the current sim time result in no action.\u001b[39;00m\n\u001b[32m    199\u001b[39m \u001b[33;03m    \"\"\"\u001b[39;00m\n\u001b[32m--> \u001b[39m\u001b[32m200\u001b[39m     \u001b[43mconnection\u001b[49m\u001b[43m.\u001b[49m\u001b[43mcheck\u001b[49m\u001b[43m(\u001b[49m\u001b[43m)\u001b[49m\u001b[43m.\u001b[49m\u001b[43msimulationStep\u001b[49m\u001b[43m(\u001b[49m\u001b[43mstep\u001b[49m\u001b[43m)\u001b[49m\n",
      "\u001b[36mFile \u001b[39m\u001b[32mc:\\Users\\xh8\\AppData\\Local\\anaconda3\\envs\\realtwin\\Lib\\site-packages\\traci\\connection.py:370\u001b[39m, in \u001b[36mConnection.simulationStep\u001b[39m\u001b[34m(self, step)\u001b[39m\n\u001b[32m    368\u001b[39m \u001b[38;5;28;01mif\u001b[39;00m \u001b[38;5;28mtype\u001b[39m(step) \u001b[38;5;129;01mis\u001b[39;00m \u001b[38;5;28mint\u001b[39m \u001b[38;5;129;01mand\u001b[39;00m step >= \u001b[32m1000\u001b[39m:\n\u001b[32m    369\u001b[39m     warnings.warn(\u001b[33m\"\u001b[39m\u001b[33mAPI change now handles step as floating point seconds\u001b[39m\u001b[33m\"\u001b[39m, stacklevel=\u001b[32m2\u001b[39m)\n\u001b[32m--> \u001b[39m\u001b[32m370\u001b[39m result = \u001b[38;5;28;43mself\u001b[39;49m\u001b[43m.\u001b[49m\u001b[43m_sendCmd\u001b[49m\u001b[43m(\u001b[49m\u001b[43mtc\u001b[49m\u001b[43m.\u001b[49m\u001b[43mCMD_SIMSTEP\u001b[49m\u001b[43m,\u001b[49m\u001b[43m \u001b[49m\u001b[38;5;28;43;01mNone\u001b[39;49;00m\u001b[43m,\u001b[49m\u001b[43m \u001b[49m\u001b[38;5;28;43;01mNone\u001b[39;49;00m\u001b[43m,\u001b[49m\u001b[43m \u001b[49m\u001b[33;43m\"\u001b[39;49m\u001b[33;43mD\u001b[39;49m\u001b[33;43m\"\u001b[39;49m\u001b[43m,\u001b[49m\u001b[43m \u001b[49m\u001b[43mstep\u001b[49m\u001b[43m)\u001b[49m\n\u001b[32m    371\u001b[39m \u001b[38;5;28;01mfor\u001b[39;00m subscriptionResults \u001b[38;5;129;01min\u001b[39;00m \u001b[38;5;28mself\u001b[39m._subscriptionMapping.values():\n\u001b[32m    372\u001b[39m     subscriptionResults.reset()\n",
      "\u001b[36mFile \u001b[39m\u001b[32mc:\\Users\\xh8\\AppData\\Local\\anaconda3\\envs\\realtwin\\Lib\\site-packages\\traci\\connection.py:232\u001b[39m, in \u001b[36mConnection._sendCmd\u001b[39m\u001b[34m(self, cmdID, varID, objID, format, *values)\u001b[39m\n\u001b[32m    230\u001b[39m     \u001b[38;5;28mself\u001b[39m._string += struct.pack(\u001b[33m\"\u001b[39m\u001b[33m!i\u001b[39m\u001b[33m\"\u001b[39m, \u001b[38;5;28mlen\u001b[39m(objID)) + objID\n\u001b[32m    231\u001b[39m \u001b[38;5;28mself\u001b[39m._string += packed\n\u001b[32m--> \u001b[39m\u001b[32m232\u001b[39m \u001b[38;5;28;01mreturn\u001b[39;00m \u001b[38;5;28;43mself\u001b[39;49m\u001b[43m.\u001b[49m\u001b[43m_sendExact\u001b[49m\u001b[43m(\u001b[49m\u001b[43m)\u001b[49m\n",
      "\u001b[36mFile \u001b[39m\u001b[32mc:\\Users\\xh8\\AppData\\Local\\anaconda3\\envs\\realtwin\\Lib\\site-packages\\traci\\connection.py:131\u001b[39m, in \u001b[36mConnection._sendExact\u001b[39m\u001b[34m(self)\u001b[39m\n\u001b[32m    129\u001b[39m     \u001b[38;5;28mprint\u001b[39m(\u001b[33m\"\u001b[39m\u001b[33msending\u001b[39m\u001b[33m\"\u001b[39m, Storage(length + \u001b[38;5;28mself\u001b[39m._string).getDebugString())\n\u001b[32m    130\u001b[39m \u001b[38;5;28mself\u001b[39m._socket.send(length + \u001b[38;5;28mself\u001b[39m._string)\n\u001b[32m--> \u001b[39m\u001b[32m131\u001b[39m result = \u001b[38;5;28;43mself\u001b[39;49m\u001b[43m.\u001b[49m\u001b[43m_recvExact\u001b[49m\u001b[43m(\u001b[49m\u001b[43m)\u001b[49m\n\u001b[32m    132\u001b[39m \u001b[38;5;28;01mif\u001b[39;00m _DEBUG:\n\u001b[32m    133\u001b[39m     \u001b[38;5;28mprint\u001b[39m(\u001b[33m\"\u001b[39m\u001b[33mreceiving\u001b[39m\u001b[33m\"\u001b[39m, result.getDebugString())\n",
      "\u001b[36mFile \u001b[39m\u001b[32mc:\\Users\\xh8\\AppData\\Local\\anaconda3\\envs\\realtwin\\Lib\\site-packages\\traci\\connection.py:109\u001b[39m, in \u001b[36mConnection._recvExact\u001b[39m\u001b[34m(self)\u001b[39m\n\u001b[32m    107\u001b[39m result = \u001b[38;5;28mbytes\u001b[39m()\n\u001b[32m    108\u001b[39m \u001b[38;5;28;01mwhile\u001b[39;00m \u001b[38;5;28mlen\u001b[39m(result) < \u001b[32m4\u001b[39m:\n\u001b[32m--> \u001b[39m\u001b[32m109\u001b[39m     t = \u001b[38;5;28;43mself\u001b[39;49m\u001b[43m.\u001b[49m\u001b[43m_socket\u001b[49m\u001b[43m.\u001b[49m\u001b[43mrecv\u001b[49m\u001b[43m(\u001b[49m\u001b[32;43m4\u001b[39;49m\u001b[43m \u001b[49m\u001b[43m-\u001b[49m\u001b[43m \u001b[49m\u001b[38;5;28;43mlen\u001b[39;49m\u001b[43m(\u001b[49m\u001b[43mresult\u001b[49m\u001b[43m)\u001b[49m\u001b[43m)\u001b[49m\n\u001b[32m    110\u001b[39m     \u001b[38;5;28;01mif\u001b[39;00m \u001b[38;5;129;01mnot\u001b[39;00m t:\n\u001b[32m    111\u001b[39m         \u001b[38;5;28;01mreturn\u001b[39;00m \u001b[38;5;28;01mNone\u001b[39;00m\n",
      "\u001b[31mKeyboardInterrupt\u001b[39m: "
     ]
    }
   ],
   "source": [
    "# Step 8: perform calibration, Available algorithms: GA: Genetic Algorithm, SA: Simulated Annealing, TS: Tabu Search\n",
    "twin.calibrate(sel_algo={\"turn_inflow\": \"GA\", \"behavior\": \"GA\"})"
   ]
  },
  {
   "cell_type": "code",
   "execution_count": null,
   "id": "74bd3ef7",
   "metadata": {},
   "outputs": [],
   "source": [
    " # Step 9 (ongoing): post-process the simulation results\n",
    "twin.post_process()  # keyword arguments can be passed to specify the post-processing options\n",
    "\n",
    "# Step 10 (ongoing): visualize the simulation results\n",
    "twin.visualize()  # keyword arguments can be passed to specify the visualization options"
   ]
  }
 ],
 "metadata": {
  "kernelspec": {
   "display_name": "realtwin",
   "language": "python",
   "name": "python3"
  },
  "language_info": {
   "codemirror_mode": {
    "name": "ipython",
    "version": 3
   },
   "file_extension": ".py",
   "mimetype": "text/x-python",
   "name": "python",
   "nbconvert_exporter": "python",
   "pygments_lexer": "ipython3",
   "version": "3.13.1"
  }
 },
 "nbformat": 4,
 "nbformat_minor": 5
}
